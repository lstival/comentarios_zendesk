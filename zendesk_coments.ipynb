{
 "cells": [
  {
   "cell_type": "markdown",
   "metadata": {
    "id": "TXx3nW2V5QOs"
   },
   "source": [
    "## Dependências"
   ]
  },
  {
   "cell_type": "code",
   "execution_count": 1,
   "metadata": {
    "id": "HRQ2Jf7x5O7W"
   },
   "outputs": [],
   "source": [
    "import pandas as pd\n",
    "import numpy as np\n",
    "import json\n",
    "\n",
    "# Libs para realizar o resquest\n",
    "import requests\n",
    "\n",
    "# Atenticação na API\n",
    "from requests.auth import HTTPBasicAuth\n",
    "\n",
    "# Parse de date\n",
    "from dateutil.parser import parse\n",
    "\n",
    "# Expressão regular\n",
    "import re\n",
    "\n",
    "# Contador\n",
    "from collections import Counter\n",
    "\n",
    "# Barra de progresso\n",
    "from tqdm import tqdm\n",
    "\n",
    "# Inteagir com o OS\n",
    "import os\n",
    "\n",
    "# Permitir interagir co mdatas\n",
    "from datetime import timezone, datetime\n",
    "\n",
    "# Compara se um item de um conjunto não está no outro\n",
    "from operator import is_not\n",
    "\n",
    "#Transforma lista de lista, em lista 1d\n",
    "from nltk import flatten"
   ]
  },
  {
   "cell_type": "raw",
   "metadata": {},
   "source": [
    "Esse script realiza por volta de 100~120 requisições por minuta na API enquanto estiver sendo executado, depedendo do seu plano no Zendesk, pode ser que apresente erro de To much request"
   ]
  },
  {
   "cell_type": "code",
   "execution_count": 3,
   "metadata": {
    "id": "lXyGJrmHaDBt"
   },
   "outputs": [],
   "source": [
    "# URL de acesso ao zendesk para consumir a API\n",
    "base_url = 'https://empresa.zendesk.com'\n",
    "\n",
    "# Usuário e senha para consultar a API do zendesk (a senha por ser o API token)\n",
    "# Esse usuário deve ser Admin, ou ter os privilégios de Admin.\n",
    "user = 'usuario@dominio.com.br'\n",
    "passw = 'senha_do_usuario'"
   ]
  },
  {
   "cell_type": "code",
   "execution_count": 4,
   "metadata": {
    "colab": {
     "base_uri": "https://localhost:8080/"
    },
    "id": "wOWORhXLkxmX",
    "outputId": "4c1bd2ec-e452-4b19-df95-620402d1a94e"
   },
   "outputs": [],
   "source": []
  },
  {
   "cell_type": "code",
   "execution_count": null,
   "metadata": {
    "id": "5P23tnv3aDBu"
   },
   "outputs": [],
   "source": []
  },
  {
   "cell_type": "markdown",
   "metadata": {
    "id": "ZhznJDGGaDBu"
   },
   "source": [
    "## Teste Tickets atualizados"
   ]
  },
  {
   "cell_type": "code",
   "execution_count": 5,
   "metadata": {
    "colab": {
     "base_uri": "https://localhost:8080/"
    },
    "id": "-M2OIJOG1lvU",
    "outputId": "e45a50ef-d9d4-4f7a-a164-8546a6fa5542"
   },
   "outputs": [
    {
     "name": "stdout",
     "output_type": "stream",
     "text": [
      "Digite a data (DD-MM-AAAA): Todos os Tickets criados depois dessa data e atualizado recentemente\n",
      "Data:01-06-2021\n"
     ]
    }
   ],
   "source": [
    "print('Digite a data (DD-MM-AAAA): Todos os Tickets criados depois dessa data e atualizado recentemente')\n",
    "str_tipo_consulta = input('Data:')\n",
    "\n",
    "# Preencher data para consulta (Ano, Mes, Dia)\n",
    "dt = datetime(2021, 3, 1)\n",
    "start_time = dt.replace(tzinfo=timezone.utc).timestamp()"
   ]
  },
  {
   "cell_type": "code",
   "execution_count": 6,
   "metadata": {
    "id": "GZY6GccY-nte"
   },
   "outputs": [],
   "source": [
    "def api_url_check(url):\n",
    "    response_tickets = requests.get(url,\n",
    "            auth = HTTPBasicAuth(user, passw))\n",
    "\n",
    "    #assert response_tickets.status_code == 200, f'Conexão não realizada'\n",
    "    \n",
    "def consulta_api(url):\n",
    "    # Salvando resultado da consulta dos 1k tickets começando em 2021\n",
    "    data_tickets = requests.get(url,\n",
    "                auth = HTTPBasicAuth(user, passw)).text\n",
    "    return data_tickets\n",
    "\n",
    "def total_registros_retornados(api_retorno, list_deseralizado_tickets):\n",
    "#     Conta quantos tickets foram retornados\n",
    "    total = 0\n",
    "    for itens in list_deseralizado_tickets:\n",
    "        total += len(itens[str(api_retorno)])\n",
    "        \n",
    "    return total\n",
    "\n",
    "def comparar_data_do_evento(data_evento, data_pesquisada):\n",
    "  \"\"\"\n",
    "  Retorna se a data do evento é maior ou igual '=>' a data de pesquisa\n",
    "  \"\"\"\n",
    "  return datetime.strptime(datetime.strftime(datetime.strptime(data_evento, '%Y-%m-%dT%H:%M:%S%z'), '%Y %m %d'), '%Y %m %d') >= data_pesquisada"
   ]
  },
  {
   "cell_type": "code",
   "execution_count": 7,
   "metadata": {
    "id": "5xPD_Lyq1oTj"
   },
   "outputs": [],
   "source": [
    "day, month, year = map(int, str_tipo_consulta.split('-'))\n",
    "dt = (datetime(year, month, day))"
   ]
  },
  {
   "cell_type": "code",
   "execution_count": 8,
   "metadata": {
    "id": "kdtfKO4-1wPb"
   },
   "outputs": [],
   "source": [
    "def consulta_tickets_atualizados_paginado(api_ticket_url):\n",
    "  list_deseralizado_ids = []\n",
    "    \n",
    "  while True:\n",
    "\n",
    "      print(api_ticket_url)\n",
    "      api_url_check(api_ticket_url) # Testa url da API\n",
    "      data_tickets = consulta_api(api_ticket_url) # Consulta os dados da API\n",
    "\n",
    "      # Transformando o retorno em JSON\n",
    "      deseralizado = json.loads(data_tickets)\n",
    "\n",
    "      # Pega os ids e data de alteração do ticket\n",
    "      list_ticket_alterados_pre_format = [[ticket['ticket_id'], ticket['created_at']] for ticket in deseralizado['audits']]\n",
    "\n",
    "      if any(pd.DataFrame(list_ticket_alterados_pre_format)[1].astype('datetime64[ns]') > dt):\n",
    "        list_tickets_id_alterados = [ticket[0] for ticket in list_ticket_alterados_pre_format if comparar_data_do_evento(ticket[1], dt)]\n",
    "\n",
    "        # Separa os IDs q aparecem\n",
    "        list_tickets_alterados_id = np.unique(list_tickets_id_alterados)\n",
    "\n",
    "        list_deseralizado_ids.append(list_tickets_alterados_id)\n",
    "\n",
    "        api_ticket_url = deseralizado['before_url']\n",
    "        \n",
    "\n",
    "      else:\n",
    "          break\n",
    "\n",
    "  return list_deseralizado_ids"
   ]
  },
  {
   "cell_type": "code",
   "execution_count": 9,
   "metadata": {
    "id": "rh6CQhPlaDBu"
   },
   "outputs": [],
   "source": [
    "# Fazendo um get request\n",
    "response_audit = requests.get(f'{base_url}/api/v2/ticket_audits',\n",
    "            auth = HTTPBasicAuth(user, passw))\n",
    "\n",
    "assert response_audit.status_code == 200, f'Conexão não realizada'"
   ]
  },
  {
   "cell_type": "code",
   "execution_count": 10,
   "metadata": {
    "colab": {
     "base_uri": "https://localhost:8080/"
    },
    "id": "yKVqL6jJ7wrC",
    "outputId": "0201cc8b-e232-4ded-a85e-a8982ca6a02b"
   },
   "outputs": [
    {
     "name": "stdout",
     "output_type": "stream",
     "text": [
      "https://eslcloud.zendesk.com/api/v2/ticket_audits\n",
      "https://eslcloud.zendesk.com/api/v2/ticket_audits.json?cursor=fDE2MjM2OTg0MTAuMHx8MTYwNDQzMjQyNjQ3Mg%3D%3D\n",
      "https://eslcloud.zendesk.com/api/v2/ticket_audits.json?cursor=fDE2MjI4MjA5MjQuMHx8MTU4OTc1OTYxNjYxMQ%3D%3D\n",
      "https://eslcloud.zendesk.com/api/v2/ticket_audits.json?cursor=fDE2MjE5NDYxNDIuMHx8MTU3NDgwNzA4MzYzMg%3D%3D\n"
     ]
    }
   ],
   "source": [
    "ticket_ids = consulta_tickets_atualizados_paginado(f'{base_url}/api/v2/ticket_audits')"
   ]
  },
  {
   "cell_type": "code",
   "execution_count": 11,
   "metadata": {
    "id": "JUK1UlXE8R5u"
   },
   "outputs": [],
   "source": [
    "list_tickets_alterados_id = [item for sublist in ticket_ids for item in sublist]\n",
    "list_tickets_alterados_id = np.unique(list_tickets_alterados_id)"
   ]
  },
  {
   "cell_type": "markdown",
   "metadata": {
    "id": "tRuJJu1baDBw"
   },
   "source": [
    "## Testando URL para consulta da API de comentários"
   ]
  },
  {
   "cell_type": "code",
   "execution_count": 12,
   "metadata": {
    "id": "Kq0yj3--aDBw"
   },
   "outputs": [],
   "source": [
    "# Fazendo um get request\n",
    "response = requests.get(f'{base_url}/api/v2/tickets/10476/comments',\n",
    "            auth = HTTPBasicAuth(user, passw))\n",
    "\n",
    "assert response.status_code == 200, f'Conexão não realizada'"
   ]
  },
  {
   "cell_type": "code",
   "execution_count": 13,
   "metadata": {
    "id": "kK3xEw7vaDBw"
   },
   "outputs": [],
   "source": [
    "# Salvando resultado da consulta\n",
    "data = requests.get(f'{base_url}/api/v2/tickets/10476/comments',\n",
    "            auth = HTTPBasicAuth(user, passw)).text"
   ]
  },
  {
   "cell_type": "code",
   "execution_count": 14,
   "metadata": {
    "id": "doLw0PpHaDBx"
   },
   "outputs": [],
   "source": [
    "# Transformando o retorno em JSON\n",
    "deseralizado = json.loads(data)"
   ]
  },
  {
   "cell_type": "markdown",
   "metadata": {
    "id": "RFRe2qrHaDBx"
   },
   "source": [
    "## Teste Localizar string nos cometários "
   ]
  },
  {
   "cell_type": "code",
   "execution_count": 15,
   "metadata": {
    "id": "80RzXl5yaDBx"
   },
   "outputs": [],
   "source": [
    "# Pegando os comentários internos\n",
    "coments_interns = []\n",
    "for coment in deseralizado['comments']:\n",
    "    if coment['public'] == False:\n",
    "        coments_interns.append(coment['body'])\n",
    "\n",
    "assert len(coments_interns[0]) == 523, f'Informação faltando no texto do cometário'\n",
    "\n",
    "# Regex para encontar pedaço de texto\n",
    "\n",
    "assert re.search(r'\\bFretes do frete\\b',coments_interns[0]).group(0) == 'Fretes do frete', f'Regex não funcionou corretamente'"
   ]
  },
  {
   "cell_type": "markdown",
   "metadata": {
    "id": "kh9Sl7yyaDBy"
   },
   "source": [
    "## Consulta de tickets "
   ]
  },
  {
   "cell_type": "code",
   "execution_count": 16,
   "metadata": {
    "id": "659ZgsG4aDB0"
   },
   "outputs": [],
   "source": [
    "def agrupa_valores_paginados(list_deseralizado_tickets, api_retorno):\n",
    "    # Montando uma lista com todos os tickets consultados\n",
    "    deseralizado_tickets = []\n",
    "\n",
    "    for ticket_temp in list_deseralizado_tickets:\n",
    "        deseralizado_tickets += ticket_temp[str(api_retorno)]\n",
    "\n",
    "    assert len(deseralizado_tickets) == total_registros_retornados(api_retorno, list_deseralizado_tickets), f'Total de tickets nao confere com o consultado'\n",
    "    \n",
    "    return deseralizado_tickets"
   ]
  },
  {
   "cell_type": "code",
   "execution_count": 17,
   "metadata": {
    "id": "3meDWN1YaDB0"
   },
   "outputs": [],
   "source": [
    "def consulta_api_paginada(api_ticket_url, consult_type = 'next_page'):\n",
    "    list_deseralizado_tickets = []\n",
    "    \n",
    "    while True:\n",
    "\n",
    "        api_url_check(api_ticket_url) # Testa url da API\n",
    "        data_tickets = consulta_api(api_ticket_url) # Consulta os dados da API\n",
    "\n",
    "        # Transformando o retorno em JSON\n",
    "        deseralizado_tickets = json.loads(data_tickets)\n",
    "\n",
    "        # Adiciona o retorno a uma lista\n",
    "        list_deseralizado_tickets.append(deseralizado_tickets)\n",
    "\n",
    "        try:\n",
    "          if deseralizado_tickets[consult_type] == None:\n",
    "              break\n",
    "          else:\n",
    "              api_ticket_url = deseralizado_tickets[consult_type]\n",
    "        except:\n",
    "            break\n",
    "    \n",
    "#     assert list_deseralizado_tickets[1]['results'][0]['id'] != list_deseralizado_tickets[0]['results'][0]['id'], f'Api não paginou corretamente'\n",
    "    \n",
    "    return list_deseralizado_tickets"
   ]
  },
  {
   "cell_type": "code",
   "execution_count": 18,
   "metadata": {
    "id": "_czES_KwrDeD"
   },
   "outputs": [],
   "source": [
    "string_tickets_id = str(list(list_tickets_alterados_id)).split('[')[1].split(']')[0]"
   ]
  },
  {
   "cell_type": "code",
   "execution_count": 19,
   "metadata": {
    "id": "jgf0mxijs-3u"
   },
   "outputs": [],
   "source": [
    "def list_to_string_list(list_ints):\n",
    "  strings_ids = str(list(list_ints)).split('[')[1].split(']')[0]\n",
    "\n",
    "  return strings_ids"
   ]
  },
  {
   "cell_type": "code",
   "execution_count": 20,
   "metadata": {
    "id": "nP9e-1COFUC3"
   },
   "outputs": [],
   "source": [
    "def consulta_lista_tickets(string_tickets_id):\n",
    "  '''\n",
    "  string_tickets_id = (List string)\n",
    "  Retorna todos os tickets que possuem o ID na lista informada.\n",
    "  '''\n",
    "  api_ticket_url = f'{base_url}/api/v2/tickets/show_many?ids={string_tickets_id}'  \n",
    "\n",
    "  return agrupa_valores_paginados(consulta_api_paginada(api_ticket_url, 'after_url'), 'tickets')"
   ]
  },
  {
   "cell_type": "code",
   "execution_count": 21,
   "metadata": {
    "colab": {
     "base_uri": "https://localhost:8080/"
    },
    "id": "6Z56T4PQaDB2",
    "outputId": "96344a08-63dd-453a-aff0-069315bd896a"
   },
   "outputs": [
    {
     "name": "stderr",
     "output_type": "stream",
     "text": [
      "Rodadas de consultas de Tickets: 100%|███████████████████████████████████████████████████| 6/6 [00:12<00:00,  2.12s/it]\n"
     ]
    }
   ],
   "source": [
    "pbar = tqdm(range(int(len(list_tickets_alterados_id)/100)+1))\n",
    "# del(deseralizado_tickets)\n",
    "\n",
    "for idx_btach in pbar:  \n",
    "  pbar.set_description(\"Rodadas de consultas de Tickets\")\n",
    "  idx_100 = idx_btach * 100\n",
    "\n",
    "  string_tickets_id_batch = list_to_string_list(list_tickets_alterados_id[idx_100: idx_100+100])\n",
    "\n",
    "  try: # Try para verificar se é a primeira interação ou se ja existem tickets consultados\n",
    "    deseralizado_tickets\n",
    "  except NameError:\n",
    "      deseralizado_tickets = consulta_lista_tickets(string_tickets_id_batch)\n",
    "  else:\n",
    "      deseralizado_tickets = deseralizado_tickets + consulta_lista_tickets(string_tickets_id_batch)"
   ]
  },
  {
   "cell_type": "code",
   "execution_count": 22,
   "metadata": {
    "id": "wOEAi-5eIBaB"
   },
   "outputs": [],
   "source": [
    "assert len(deseralizado_tickets) == len(list_tickets_alterados_id), 'Não foram consultado todos os Tickets com alterações'"
   ]
  },
  {
   "cell_type": "code",
   "execution_count": 23,
   "metadata": {
    "id": "5O4Ka_EJaDB3"
   },
   "outputs": [],
   "source": [
    "# campos da API com informação para o relatório por evento\n",
    "relatorios_keys = ['id', 'subject','created_at','updated_at','requester_id','organization_id','status','group_id']"
   ]
  },
  {
   "cell_type": "code",
   "execution_count": 24,
   "metadata": {
    "id": "leWRdW8qTSTq"
   },
   "outputs": [],
   "source": [
    "# campos da API com informação para o relatório por auditoria\n",
    "relatorios_keys_audit = ['id', 'subject','created_at','updated_at','author_id','organization_id','status','group_id']"
   ]
  },
  {
   "cell_type": "code",
   "execution_count": 25,
   "metadata": {
    "id": "Hp6UzCBQaDB3"
   },
   "outputs": [],
   "source": [
    "def format_date(date_to_parse):\n",
    "    return parse(date_to_parse).date()"
   ]
  },
  {
   "cell_type": "code",
   "execution_count": 26,
   "metadata": {
    "id": "IRF2I9LAaDB4"
   },
   "outputs": [],
   "source": [
    "def relatorio_keys(tickets_consultados):\n",
    "    # Retorna os campos do relatório para cada ticket consultado na API\n",
    "    return [tickets_consultados.get(key) for key in relatorios_keys]"
   ]
  },
  {
   "cell_type": "code",
   "execution_count": 27,
   "metadata": {
    "id": "UZVbGWpbaDB4"
   },
   "outputs": [],
   "source": [
    "def analista_dos_tickets(deseralizado_tickets):\n",
    "    \"\"\"\n",
    "    \n",
    "    \"\"\"\n",
    "    \n",
    "    analistas = []\n",
    "#     for des_ticket in deseralizado_tickets['results']:\n",
    "    for des_ticket in deseralizado_tickets:\n",
    "      try:\n",
    "        for field in des_ticket['custom_fields']:\n",
    "            if field['id'] == 360020894432:\n",
    "                analistas.append(field['value'])\n",
    "      except:\n",
    "        analistas.append(None)\n",
    "    return analistas"
   ]
  },
  {
   "cell_type": "code",
   "execution_count": 28,
   "metadata": {
    "id": "bex4n7ReaDB4"
   },
   "outputs": [],
   "source": [
    "def modulo_dos_tickets(deseralizado_tickets):\n",
    "    modulo = []\n",
    "#     for des_ticket in deseralizado_tickets['results']:\n",
    "    for des_ticket in deseralizado_tickets:\n",
    "        for field in des_ticket['custom_fields']:\n",
    "            if field['id'] == 360020903331:\n",
    "                modulo.append(field['value'])\n",
    "    return modulo"
   ]
  },
  {
   "cell_type": "code",
   "execution_count": 29,
   "metadata": {
    "id": "mpMzJcKZjnVb"
   },
   "outputs": [],
   "source": [
    "def motivo_contato_dos_tickets(deseralizado_tickets):\n",
    "    motivo = []\n",
    "    \n",
    "    for des_ticket in deseralizado_tickets:\n",
    "      try:\n",
    "        for field in des_ticket['custom_fields']:\n",
    "            if field['id'] == 360040996232:\n",
    "                motivo.append(field['value'])\n",
    "      except:\n",
    "        motivo.append(None)\n",
    "    return motivo"
   ]
  },
  {
   "cell_type": "code",
   "execution_count": 30,
   "metadata": {
    "id": "IjRSAMKtaDB5"
   },
   "outputs": [],
   "source": [
    "# Lista com os as informaçõs dos tickets tickets\n",
    "# ticket_list = [relatorio_keys(ticket_temp) for ticket_temp in deseralizado_tickets['results']]\n",
    "ticket_list = [relatorio_keys(ticket_temp) for ticket_temp in deseralizado_tickets]"
   ]
  },
  {
   "cell_type": "code",
   "execution_count": 31,
   "metadata": {
    "id": "ovdgY3FvaDB5"
   },
   "outputs": [],
   "source": [
    "tickets = pd.DataFrame(ticket_list,\n",
    "                       columns=['id', 'assunto','criacao','atualizado','id_solicitante','id_organizacao','status','id_status'])"
   ]
  },
  {
   "cell_type": "code",
   "execution_count": 32,
   "metadata": {
    "id": "K87aAmk7aDB6"
   },
   "outputs": [],
   "source": [
    "tickets['criacao'] = [parse(date) for date in tickets['criacao']]\n",
    "tickets['atualizado'] = [parse(date) for date in tickets['atualizado']]"
   ]
  },
  {
   "cell_type": "code",
   "execution_count": 33,
   "metadata": {
    "id": "hB-dXX1IaDB9"
   },
   "outputs": [],
   "source": [
    "tickets['hora_criacao'] = tickets.apply(lambda x: x['criacao'].hour, axis=1)\n",
    "tickets['minuto_criacao'] = tickets.apply(lambda x: x['criacao'].minute, axis=1)\n",
    "\n",
    "tickets['hora_finalizacao'] = tickets.apply(lambda x: x['criacao'].hour, axis=1)\n",
    "tickets['minuto_finalizacao'] = tickets.apply(lambda x: x['criacao'].minute, axis=1)"
   ]
  },
  {
   "cell_type": "code",
   "execution_count": 34,
   "metadata": {
    "id": "ZXnuqD2kizUk"
   },
   "outputs": [],
   "source": [
    "assert len(tickets['id_solicitante']) == len(deseralizado_tickets), 'Quantidade de tickets com diferença no id_solicitante'"
   ]
  },
  {
   "cell_type": "code",
   "execution_count": 35,
   "metadata": {
    "id": "reh8oYG7blgK"
   },
   "outputs": [],
   "source": [
    "# Formatando a data para dd/mm/aaaa\n",
    "tickets['criacao'] = tickets['criacao'].apply(lambda x: x.strftime(\"%d/%m/%Y\"))\n",
    "tickets['atualizado'] = tickets['atualizado'].apply(lambda x: x.strftime(\"%d/%m/%Y\"))"
   ]
  },
  {
   "cell_type": "code",
   "execution_count": 36,
   "metadata": {
    "id": "3My22C2waDB9"
   },
   "outputs": [],
   "source": [
    "tickets['analista'] = analista_dos_tickets(deseralizado_tickets)\n",
    "# tickets['modulo'] = modulo_dos_tickets(deseralizado_tickets)\n",
    "tickets['motivo_contato'] = motivo_contato_dos_tickets(deseralizado_tickets)"
   ]
  },
  {
   "cell_type": "code",
   "execution_count": 37,
   "metadata": {
    "id": "6pJ8PBm6aDB9"
   },
   "outputs": [],
   "source": [
    "# parse(tickets['criacao'][0]).strftime(\"%d %m %Y\")\n",
    "\n",
    "# Remove os itens duplicado das duas consultas\n",
    "tickets = tickets.drop_duplicates()"
   ]
  },
  {
   "cell_type": "markdown",
   "metadata": {
    "id": "Ha8JAIa_aDB-"
   },
   "source": [
    "## Comentários dos tickets consultados"
   ]
  },
  {
   "cell_type": "code",
   "execution_count": 38,
   "metadata": {
    "id": "nyOT2lz-aDB-"
   },
   "outputs": [],
   "source": [
    "ids_para_consulta = tickets.id.values"
   ]
  },
  {
   "cell_type": "code",
   "execution_count": 39,
   "metadata": {
    "id": "7RTiVo5iaDB-"
   },
   "outputs": [],
   "source": [
    "data = requests.get(f'{base_url}/api/v2/tickets/{str(11171)}/comments',\n",
    "        auth = HTTPBasicAuth(user, passw)).text\n",
    "\n",
    "# Transformando o retorno em JSON\n",
    "deseralizado_tickets_comentario = json.loads(data)\n",
    "\n",
    "assert deseralizado_tickets_comentario['comments'][0]['id'] == 1546957011772, f'Cometários estão sendo trazidos errado'"
   ]
  },
  {
   "cell_type": "code",
   "execution_count": 40,
   "metadata": {
    "id": "kXHjIuT6aDB-"
   },
   "outputs": [],
   "source": [
    "# Recebe o retorno da API e devolve uma lista com ID, cometário, e data de criação\n",
    "def comentario_interno(deseralizado, ticket_id):\n",
    "    # Pegando os comentários internos\n",
    "    coments_interns = []\n",
    "    for coment in deseralizado['comments']:\n",
    "#         if coment['public'] == False:\n",
    "        coments_interns.append([ticket_id, coment['id'], coment['body'], coment['created_at'], coment['public']])\n",
    "            \n",
    "    return coments_interns"
   ]
  },
  {
   "cell_type": "code",
   "execution_count": 41,
   "metadata": {
    "id": "MdPSr0G5aDB_"
   },
   "outputs": [],
   "source": [
    "# Consulta os comentários de um ticket\n",
    "def comentarios_do_ticket(ticket_id):\n",
    "    \n",
    "    # Salvando resultado da consulta\n",
    "    data = requests.get(f'{base_url}/api/v2/tickets/{str(ticket_id)}/comments',\n",
    "            auth = HTTPBasicAuth(user, passw)).text\n",
    "    \n",
    "    # Transformando o retorno em JSON\n",
    "    deseralizado = json.loads(data)\n",
    "    \n",
    "    # Pegando comentários internos\n",
    "    coments_interns = comentario_interno(deseralizado, ticket_id)\n",
    "    \n",
    "    # retorna os comentários do ticket\n",
    "    return coments_interns"
   ]
  },
  {
   "cell_type": "code",
   "execution_count": 42,
   "metadata": {
    "colab": {
     "base_uri": "https://localhost:8080/"
    },
    "id": "EgjhCf48aDB_",
    "outputId": "9db03907-d209-4806-ed52-3fe61dafc17f"
   },
   "outputs": [
    {
     "name": "stderr",
     "output_type": "stream",
     "text": [
      "100%|████████████████████████████████████████████████████████████████████████████████| 595/595 [05:55<00:00,  1.67it/s]\n"
     ]
    }
   ],
   "source": [
    "# Consulta os comentários do tickets\n",
    "list_ticket_comentarios = []\n",
    "\n",
    "# for idx in tqdm(ids_para_consulta[-10:]):\n",
    "for idx in tqdm(ids_para_consulta):\n",
    "    list_ticket_comentarios.append(comentarios_do_ticket(idx))"
   ]
  },
  {
   "cell_type": "code",
   "execution_count": 43,
   "metadata": {
    "id": "Zj8EyHD-aDCA"
   },
   "outputs": [],
   "source": [
    "# Transforma os comentários em uma lista\n",
    "list_all_coments = []\n",
    "\n",
    "for ticket_values in list_ticket_comentarios: # Uma vez para cada ticket\n",
    "    for coment in ticket_values: # Uma vez para cada comentário no ticket\n",
    "        list_all_coments.append(coment)"
   ]
  },
  {
   "cell_type": "code",
   "execution_count": 44,
   "metadata": {
    "id": "yE5u108UaDCA"
   },
   "outputs": [],
   "source": [
    "# Cria DF com os comentários obtidos dos Tickets\n",
    "df_ticket_comentarios = pd.DataFrame(list_all_coments, columns=['id', 'id_comentario', \n",
    "                                                                'texto_comentario','data_comentario','publico'])"
   ]
  },
  {
   "cell_type": "code",
   "execution_count": 45,
   "metadata": {
    "colab": {
     "base_uri": "https://localhost:8080/"
    },
    "id": "AcI66A6aaDCA",
    "outputId": "59e98c73-89bd-414b-d08e-2325aa4803f8"
   },
   "outputs": [
    {
     "data": {
      "text/html": [
       "<div>\n",
       "<style scoped>\n",
       "    .dataframe tbody tr th:only-of-type {\n",
       "        vertical-align: middle;\n",
       "    }\n",
       "\n",
       "    .dataframe tbody tr th {\n",
       "        vertical-align: top;\n",
       "    }\n",
       "\n",
       "    .dataframe thead th {\n",
       "        text-align: right;\n",
       "    }\n",
       "</style>\n",
       "<table border=\"1\" class=\"dataframe\">\n",
       "  <thead>\n",
       "    <tr style=\"text-align: right;\">\n",
       "      <th></th>\n",
       "      <th>id</th>\n",
       "      <th>id_comentario</th>\n",
       "      <th>texto_comentario</th>\n",
       "      <th>data_comentario</th>\n",
       "      <th>publico</th>\n",
       "      <th>data_comentario_dia</th>\n",
       "      <th>data_comentario_mes</th>\n",
       "      <th>data_comentario_ano</th>\n",
       "    </tr>\n",
       "  </thead>\n",
       "  <tbody>\n",
       "    <tr>\n",
       "      <th>0</th>\n",
       "      <td>9642</td>\n",
       "      <td>1441245577212</td>\n",
       "      <td>na consulta do movimento não sai a sigla da UF...</td>\n",
       "      <td>01/03/2021</td>\n",
       "      <td>True</td>\n",
       "      <td>1</td>\n",
       "      <td>3</td>\n",
       "      <td>2021</td>\n",
       "    </tr>\n",
       "    <tr>\n",
       "      <th>1</th>\n",
       "      <td>9642</td>\n",
       "      <td>1440071950031</td>\n",
       "      <td>\\n\\n\\n\\n![](https://eslcloud.zendesk.com/attac...</td>\n",
       "      <td>01/03/2021</td>\n",
       "      <td>True</td>\n",
       "      <td>1</td>\n",
       "      <td>3</td>\n",
       "      <td>2021</td>\n",
       "    </tr>\n",
       "    <tr>\n",
       "      <th>2</th>\n",
       "      <td>9642</td>\n",
       "      <td>1442207272512</td>\n",
       "      <td>Prezado Sivanildo, bom dia!\\n\\nSua solicitação...</td>\n",
       "      <td>02/03/2021</td>\n",
       "      <td>True</td>\n",
       "      <td>2</td>\n",
       "      <td>3</td>\n",
       "      <td>2021</td>\n",
       "    </tr>\n",
       "    <tr>\n",
       "      <th>3</th>\n",
       "      <td>9642</td>\n",
       "      <td>1440974366311</td>\n",
       "      <td>No detalhes do frete não está apresentando a U...</td>\n",
       "      <td>02/03/2021</td>\n",
       "      <td>False</td>\n",
       "      <td>2</td>\n",
       "      <td>3</td>\n",
       "      <td>2021</td>\n",
       "    </tr>\n",
       "    <tr>\n",
       "      <th>4</th>\n",
       "      <td>9642</td>\n",
       "      <td>1479211510871</td>\n",
       "      <td>![](https://eslcloud.zendesk.com/attachments/...</td>\n",
       "      <td>25/03/2021</td>\n",
       "      <td>False</td>\n",
       "      <td>25</td>\n",
       "      <td>3</td>\n",
       "      <td>2021</td>\n",
       "    </tr>\n",
       "  </tbody>\n",
       "</table>\n",
       "</div>"
      ],
      "text/plain": [
       "     id  id_comentario                                   texto_comentario  \\\n",
       "0  9642  1441245577212  na consulta do movimento não sai a sigla da UF...   \n",
       "1  9642  1440071950031  \\n\\n\\n\\n![](https://eslcloud.zendesk.com/attac...   \n",
       "2  9642  1442207272512  Prezado Sivanildo, bom dia!\\n\\nSua solicitação...   \n",
       "3  9642  1440974366311  No detalhes do frete não está apresentando a U...   \n",
       "4  9642  1479211510871   ![](https://eslcloud.zendesk.com/attachments/...   \n",
       "\n",
       "  data_comentario  publico  data_comentario_dia  data_comentario_mes  \\\n",
       "0      01/03/2021     True                    1                    3   \n",
       "1      01/03/2021     True                    1                    3   \n",
       "2      02/03/2021     True                    2                    3   \n",
       "3      02/03/2021    False                    2                    3   \n",
       "4      25/03/2021    False                   25                    3   \n",
       "\n",
       "   data_comentario_ano  \n",
       "0                 2021  \n",
       "1                 2021  \n",
       "2                 2021  \n",
       "3                 2021  \n",
       "4                 2021  "
      ]
     },
     "execution_count": 45,
     "metadata": {},
     "output_type": "execute_result"
    }
   ],
   "source": [
    "# Convertando as datas do dataframe para date\n",
    "df_ticket_comentarios['data_comentario'] = [parse(date) for date in df_ticket_comentarios['data_comentario']]\n",
    "\n",
    "# Criando coluna com dia mes e ano separados\n",
    "df_ticket_comentarios['data_comentario_dia'] = df_ticket_comentarios.apply(lambda x: x['data_comentario'].day, axis=1)\n",
    "df_ticket_comentarios['data_comentario_mes'] = df_ticket_comentarios.apply(lambda x: x['data_comentario'].month, axis=1)\n",
    "df_ticket_comentarios['data_comentario_ano'] = df_ticket_comentarios.apply(lambda x: x['data_comentario'].year, axis=1)\n",
    "\n",
    "# Formatando a data para dd/mm/aaaa\n",
    "df_ticket_comentarios['data_comentario'] = df_ticket_comentarios['data_comentario'].apply(lambda x: x.strftime(\"%d/%m/%Y\"))\n",
    "\n",
    "df_ticket_comentarios.head()"
   ]
  },
  {
   "cell_type": "markdown",
   "metadata": {
    "id": "IiHSk6RnaDCA"
   },
   "source": [
    "## Juntando comentários com as informações dos tickets"
   ]
  },
  {
   "cell_type": "code",
   "execution_count": 46,
   "metadata": {
    "id": "CUvOi2TFaDCB"
   },
   "outputs": [],
   "source": [
    "df_ticket_com_comentários = pd.merge(df_ticket_comentarios, tickets, on='id')"
   ]
  },
  {
   "cell_type": "code",
   "execution_count": 47,
   "metadata": {
    "id": "3yYrKLN4aDCB"
   },
   "outputs": [],
   "source": [
    "mask = np.isin(tickets.id.unique(), df_ticket_comentarios.id.unique())\n",
    "assert (len(np.unique(mask)) == 1) and (np.unique(mask) == True)[0], 'Existem tickets que não estão na lista dos comentários'"
   ]
  },
  {
   "cell_type": "markdown",
   "metadata": {
    "id": "Tcx2XkkhaDCB"
   },
   "source": [
    "## Organizações "
   ]
  },
  {
   "cell_type": "code",
   "execution_count": 48,
   "metadata": {
    "id": "LGrfLblaaDCC"
   },
   "outputs": [],
   "source": [
    "# URL para todos os tickets nao fechados\n",
    "api_organizaot_url = f'{base_url}/api/v2/organizations'\n",
    "\n",
    "organizacao_deseralizada = agrupa_valores_paginados(consulta_api_paginada(api_organizaot_url),'organizations')"
   ]
  },
  {
   "cell_type": "code",
   "execution_count": 49,
   "metadata": {
    "id": "_fom38oJaDCC"
   },
   "outputs": [],
   "source": [
    "list_organizacoes = []\n",
    "for organiza in organizacao_deseralizada:\n",
    "    list_organizacoes.append([organiza['id'], organiza['name']])"
   ]
  },
  {
   "cell_type": "code",
   "execution_count": 50,
   "metadata": {
    "id": "2OW_GodZaDCD"
   },
   "outputs": [],
   "source": [
    "# Cria dataframe com as organizações\n",
    "df_organizacoes = pd.DataFrame(list_organizacoes,columns=['id_organizacao','nome_organizacao'])"
   ]
  },
  {
   "cell_type": "code",
   "execution_count": 51,
   "metadata": {
    "id": "_TTZ54zzaDCD"
   },
   "outputs": [],
   "source": [
    "# pd.merge(df_ticket_com_comentários, df_organizacoes, on='id_organizacao').id.nunique()\n",
    "assert df_ticket_com_comentários.set_index('id_organizacao').join(df_organizacoes.set_index('id_organizacao'), on='id_organizacao', how='left').index.size == df_ticket_com_comentários.index.size, 'Quantidade de tickets alterada após incluir as organizações'"
   ]
  },
  {
   "cell_type": "code",
   "execution_count": 52,
   "metadata": {
    "id": "CwzYzSfZaDCD"
   },
   "outputs": [],
   "source": [
    "df_ticket_com_comentários = pd.merge(df_ticket_com_comentários, df_organizacoes, on='id_organizacao',how='left')\n",
    "# df_ticket_com_comentários = df_ticket_com_comentários.set_index('id_organizacao').join(df_organizacoes.set_index('id_organizacao'), on='id_organizacao', how='left')"
   ]
  },
  {
   "cell_type": "markdown",
   "metadata": {
    "id": "wSE4QOt8aDCD"
   },
   "source": [
    "## Solicitante "
   ]
  },
  {
   "cell_type": "code",
   "execution_count": 53,
   "metadata": {
    "id": "x0beDshgVigs"
   },
   "outputs": [],
   "source": [
    "from nltk import flatten"
   ]
  },
  {
   "cell_type": "code",
   "execution_count": 54,
   "metadata": {
    "id": "eQDqn_craDCD"
   },
   "outputs": [],
   "source": [
    "# IDs dos usuarios dos tickets\n",
    "id_solicitantes = df_ticket_com_comentários['id_solicitante'].unique()"
   ]
  },
  {
   "cell_type": "code",
   "execution_count": 55,
   "metadata": {
    "id": "UIQQGIDqTI0w"
   },
   "outputs": [],
   "source": [
    "list_todos_usuarios = []\n",
    "\n",
    "for ticket_batch in range(int(len(list(df_ticket_com_comentários['id_solicitante'].unique()))/100) +1):\n",
    "  count = ticket_batch*100 \n",
    "\n",
    "  api_usuarios = (requests.get(f'{base_url}/api/v2/users/show_many.json?ids={list(id_solicitantes[count: count+100])}',\n",
    "          auth = HTTPBasicAuth(user, passw)).text)\n",
    "\n",
    "  list_todos_usuarios.append(json.loads(api_usuarios)['users'])\n",
    "  # usuarios_deseralizado = json.loads(api_usuarios)['users']\n",
    "  "
   ]
  },
  {
   "cell_type": "code",
   "execution_count": 56,
   "metadata": {
    "id": "okfzvFRmaDCD"
   },
   "outputs": [],
   "source": [
    "usuarios_deseralizado = list(flatten(list_todos_usuarios))"
   ]
  },
  {
   "cell_type": "code",
   "execution_count": 57,
   "metadata": {
    "id": "Yj7O_8vfaDCE"
   },
   "outputs": [],
   "source": [
    "list_usuarios = []\n",
    "\n",
    "for user in usuarios_deseralizado:\n",
    "    list_usuarios.append([user['id'], user['name']])"
   ]
  },
  {
   "cell_type": "code",
   "execution_count": 58,
   "metadata": {
    "id": "W7lsqmowaDCE"
   },
   "outputs": [],
   "source": [
    "# Cria dataframe com os usuarios\n",
    "df_solicitantes = pd.DataFrame(list_usuarios,columns=['id_solicitante','nome_usuario'])"
   ]
  },
  {
   "cell_type": "code",
   "execution_count": 59,
   "metadata": {
    "id": "-puZfs4zytkC"
   },
   "outputs": [],
   "source": [
    "assert pd.merge(df_ticket_com_comentários, df_solicitantes, on='id_solicitante', how='left').index.size == df_ticket_com_comentários.index.size, 'Solicitante está removendo tickets da lista'"
   ]
  },
  {
   "cell_type": "code",
   "execution_count": 60,
   "metadata": {
    "id": "YIG9HzvuaDCE"
   },
   "outputs": [],
   "source": [
    "# Megre usuarios com os tickets\n",
    "# df_ticket_com_comentários = pd.merge(df_ticket_com_comentários, df_solicitantes, on='id_solicitante')\n",
    "df_ticket_com_comentários = pd.merge(df_ticket_com_comentários, df_solicitantes, on='id_solicitante', how='left')"
   ]
  },
  {
   "cell_type": "markdown",
   "metadata": {
    "id": "2xpv280eaDCE"
   },
   "source": [
    "## Tempo de cada analista "
   ]
  },
  {
   "cell_type": "code",
   "execution_count": 61,
   "metadata": {
    "id": "yTNrFkj4aDCE"
   },
   "outputs": [],
   "source": [
    "dict_agente_analistas = {'Marcelo':'mlourenco',\n",
    "'matheus_migliato':'mmigliato',\n",
    "'caroline_vantim':'cvantim',\n",
    "'bruno_ricardo':'bhernandes',\n",
    "'lucas_freitas':'lfreitas',\n",
    "'Fernando':'fluiz',\n",
    "'joão_guilherme':'cvantim'}"
   ]
  },
  {
   "cell_type": "code",
   "execution_count": 62,
   "metadata": {
    "id": "UFnkkeJ3aDCF"
   },
   "outputs": [],
   "source": [
    "def tempo_analista(row):\n",
    "    \n",
    "    if not row['publico']:\n",
    "        try:\n",
    "            analista_tempo = row['texto_comentario'].split('@@')[1].split(',') # Pega o analista e o tempo em uma lista\n",
    "            analista = analista_tempo[0] # Obtem o nome do analista\n",
    "            tempo = re.search(r'\\d+', analista_tempo[1]).group() # Obtem o tempo informado (ignorando o texto)\n",
    "            \n",
    "            # return [row['id'], analista, tempo]\n",
    "        except:\n",
    "            analista = None\n",
    "            tempo = None\n",
    "            \n",
    "        return [row['id_comentario'], analista, tempo]"
   ]
  },
  {
   "cell_type": "code",
   "execution_count": 63,
   "metadata": {
    "id": "vfGKuJG3aDCF"
   },
   "outputs": [],
   "source": [
    "# Lista com o id do ticket, nome do analista e tempo gasto\n",
    "tempo_comentarios_internos = df_ticket_comentarios.apply(lambda x: tempo_analista(x),axis=1)"
   ]
  },
  {
   "cell_type": "code",
   "execution_count": 64,
   "metadata": {
    "id": "8a6oYfSCaDCF"
   },
   "outputs": [],
   "source": [
    "# Lista de cada comentário informando tempo\n",
    "list_tickets_comentarios = [analista_tempo for analista_tempo in tempo_comentarios_internos if analista_tempo is not None]"
   ]
  },
  {
   "cell_type": "code",
   "execution_count": 65,
   "metadata": {
    "id": "AqjA4fsJaDCF"
   },
   "outputs": [],
   "source": [
    "# Criando df com os dados do ticket e o tempo e analista\n",
    "df_tempo_comentario_analista = pd.DataFrame(list_tickets_comentarios, columns=['id_comentario',\n",
    "                                                                               'analista_comentario','tempo_comentario'])"
   ]
  },
  {
   "cell_type": "code",
   "execution_count": 66,
   "metadata": {
    "id": "pjgKHzCNaDCF"
   },
   "outputs": [],
   "source": [
    "assert pd.merge(df_ticket_com_comentários, df_tempo_comentario_analista, on='id_comentario', how='left').index.size == df_ticket_com_comentários.index.size, 'Comentários estão removendo tickets da consulta'"
   ]
  },
  {
   "cell_type": "code",
   "execution_count": 67,
   "metadata": {
    "id": "xNYl-9T6aDCG"
   },
   "outputs": [],
   "source": [
    "# Juntando tempo com o comentário\n",
    "df_ticket_com_comentários = pd.merge(df_ticket_com_comentários, df_tempo_comentario_analista, on='id_comentario')"
   ]
  },
  {
   "cell_type": "code",
   "execution_count": 70,
   "metadata": {
    "id": "XAqhSIUfaDCG"
   },
   "outputs": [],
   "source": [
    "# Salvando dados\n",
    "filename = 'consultas/'\n",
    "os.makedirs(os.path.dirname(filename), exist_ok=True)\n",
    "\n",
    "df_ticket_com_comentários.drop(['id_comentario', 'publico', 'id_solicitante', 'id_organizacao', 'id_status'],1).to_csv(f'{filename}/tickets_{datetime.now().date().day}_{datetime.now().date().month}_{datetime.now().date().year}_{datetime.now().hour}_{datetime.now().minute}_{datetime.now().second}.csv', sep = ';')"
   ]
  }
 ],
 "metadata": {
  "colab": {
   "collapsed_sections": [
    "TXx3nW2V5QOs",
    "ZhznJDGGaDBu",
    "tRuJJu1baDBw",
    "RFRe2qrHaDBx",
    "Ha8JAIa_aDB-",
    "IiHSk6RnaDCA",
    "Tcx2XkkhaDCB",
    "wSE4QOt8aDCD",
    "2xpv280eaDCE"
   ],
   "name": "zendesk_coments_consult.ipynb",
   "provenance": []
  },
  "kernelspec": {
   "display_name": "Python 3",
   "language": "python",
   "name": "python3"
  },
  "language_info": {
   "codemirror_mode": {
    "name": "ipython",
    "version": 3
   },
   "file_extension": ".py",
   "mimetype": "text/x-python",
   "name": "python",
   "nbconvert_exporter": "python",
   "pygments_lexer": "ipython3",
   "version": "3.8.5"
  }
 },
 "nbformat": 4,
 "nbformat_minor": 1
}
